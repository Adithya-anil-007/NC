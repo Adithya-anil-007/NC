{
  "cells": [
    {
      "cell_type": "markdown",
      "metadata": {
        "id": "quDlLWcAP31q"
      },
      "source": [
        "## MLP for Binary Classification\n",
        "\n",
        "In this lab, you will use the Ionosphere data binary (two-class) classification dataset to demonstrate an MLP for binary classification.\n",
        "\n",
        "This dataset involves predicting whether a structure is in the atmosphere or not given radar returns.\n",
        "\n",
        "The dataset will be downloaded automatically using Pandas, but you can learn more in the links below.\n",
        "\n",
        "[Ionosphere Dataset (csv)](https://raw.githubusercontent.com/jbrownlee/Datasets/master/ionosphere.csv)\n",
        "\n",
        "[Ionosphere Dataset Description (csv)](https://raw.githubusercontent.com/jbrownlee/Datasets/master/ionosphere.names)\n",
        "\n",
        "\n",
        "Your task for this is lab is to develop a Keras-based Multi-Layer Perceptron model for this data set. Remember the number of output layers is equal to the number of classes.\n",
        "\n",
        "Following we have provided some piece of code to you while you need to complete the rest of the code on your own.\n",
        "\n"
      ]
    },
    {
      "cell_type": "code",
      "execution_count": null,
      "metadata": {
        "id": "6086ipzNP31q"
      },
      "outputs": [],
      "source": [
        "# Importing Libraries\n",
        "\n",
        "# Your code to import read_csv class from pandas\n",
        "# Your code to import train_test_split class from sklearn. Follow link https://scikit-learn.org/stable/modules/generated/sklearn.model_selection.train_test_split.html\n",
        "from sklearn.preprocessing import LabelEncoder\n",
        "from tensorflow.keras import Sequential\n",
        "from tensorflow.keras.layers import Dense"
      ]
    },
    {
      "cell_type": "markdown",
      "source": [
        "# Read the dataset from the path below. Store the data in a pandas dataframe named 'df'\n",
        "\n",
        "Link to API - https://pandas.pydata.org/docs/reference/api/pandas.read_csv.html"
      ],
      "metadata": {
        "id": "7755rFn_iDRj"
      }
    },
    {
      "cell_type": "code",
      "execution_count": null,
      "metadata": {
        "id": "058u-qkXP31r"
      },
      "outputs": [],
      "source": [
        "path = 'https://raw.githubusercontent.com/jbrownlee/Datasets/master/ionosphere.csv'\n",
        "# Your code to read the csv from the above path."
      ]
    },
    {
      "cell_type": "markdown",
      "source": [
        "See the sample dataset. Print few rows of the dataset. Use dataframe.head() method.\n",
        "\n",
        "Link to API:  https://pandas.pydata.org/docs/reference/api/pandas.DataFrame.head.html"
      ],
      "metadata": {
        "id": "vG3n2OHrjQsG"
      }
    },
    {
      "cell_type": "code",
      "source": [
        "# Your code to print first few rows of the dataset."
      ],
      "metadata": {
        "id": "jx3JTj4sfUIt"
      },
      "execution_count": null,
      "outputs": []
    },
    {
      "cell_type": "markdown",
      "source": [
        "Print the basic info of the dataset. Use dataframe.info() from pandas library\n"
      ],
      "metadata": {
        "id": "uo8Siqyxfhj7"
      }
    },
    {
      "cell_type": "code",
      "source": [
        "# Your code to print information about the dataframe"
      ],
      "metadata": {
        "id": "VgN9rYV_fiag"
      },
      "execution_count": null,
      "outputs": []
    },
    {
      "cell_type": "markdown",
      "source": [
        "Print the shape of the dataframe. Select suitable API call from the pandas library"
      ],
      "metadata": {
        "id": "AX_YFAb4kdl4"
      }
    },
    {
      "cell_type": "code",
      "source": [
        "# Your code to print the shape of the dataset"
      ],
      "metadata": {
        "id": "rlfCOssvf44O"
      },
      "execution_count": null,
      "outputs": []
    },
    {
      "cell_type": "markdown",
      "source": [
        "# Separate the input and output from the dataframe. Input is all columns besides last column. Output is the last column.\n"
      ],
      "metadata": {
        "id": "aekdoY2zkxU4"
      }
    },
    {
      "cell_type": "code",
      "execution_count": null,
      "metadata": {
        "id": "_5bh8al2P31s"
      },
      "outputs": [],
      "source": [
        "X = df.values[:, :-1]\n",
        "# Your code to get y - Hint y = df.values[:, some parameters]\n"
      ]
    },
    {
      "cell_type": "markdown",
      "source": [
        "We have converted everthing in X to 'float' and the letters in column y to the numbers in the following cell."
      ],
      "metadata": {
        "id": "t7y3GhJDloqk"
      }
    },
    {
      "cell_type": "code",
      "source": [
        "X = X.astype('float32')\n",
        "y = LabelEncoder().fit_transform(y)"
      ],
      "metadata": {
        "id": "qVtPf2F9lg17"
      },
      "execution_count": null,
      "outputs": []
    },
    {
      "cell_type": "markdown",
      "source": [
        "Printing the genral information of the X and y in the following cell"
      ],
      "metadata": {
        "id": "EZ_aY4H3l9bI"
      }
    },
    {
      "cell_type": "code",
      "source": [
        "# Your code to print X\n",
        "# Your code to print y\n",
        "# your code to print shape of X. Remember X is a numpy array\n",
        "# your code to print shape of y. Remember y is a numpy array\n"
      ],
      "metadata": {
        "id": "BWBOMrBigew9"
      },
      "execution_count": null,
      "outputs": []
    },
    {
      "cell_type": "markdown",
      "source": [
        "* Separate X and y into training and test set with a ratio of your choice.\n",
        "* Print the shapes of the resulting arrays.\n",
        "* Get the number of features from X_train. Remember the number of features are the number of inputs.\n",
        "\n",
        "Use sklearn train_test_split class.\n",
        "https://scikit-learn.org/stable/modules/generated/sklearn.model_selection.train_test_split.html\n"
      ],
      "metadata": {
        "id": "f9ltrLLqmkgW"
      }
    },
    {
      "cell_type": "code",
      "execution_count": null,
      "metadata": {
        "id": "-CjFJcAMP31s"
      },
      "outputs": [],
      "source": [
        "# Your code to separate the data into trauning and test set.\n",
        "\n",
        "# Your code to print shape of X_train\n",
        "# Your code to print shape of X_test\n",
        "# Your code to print shape of y_train\n",
        "# Your code to print shape of X_test\n",
        "\n",
        "\n",
        "n_features = X_train.shape[1]"
      ]
    },
    {
      "cell_type": "markdown",
      "source": [
        "# Creating a Multi-layer Perceptron using Keras.\n",
        "We have added first and last layers. Create the hidden layers of your choise.\n",
        "You can chose any number of hidden layers and activation function of your chose\n",
        "https://keras.io/api/layers/core_layers/dense/"
      ],
      "metadata": {
        "id": "dQdqYXJ9pqzC"
      }
    },
    {
      "cell_type": "code",
      "execution_count": null,
      "metadata": {
        "id": "hhTE3u-_P31t"
      },
      "outputs": [],
      "source": [
        "model = Sequential()\n",
        "model.add(Dense(10, activation='relu', input_shape=(n_features,)))\n",
        "#\n",
        "# Add as many layers with activation functions of your choice\n",
        "#\n",
        "model.add(Dense(1, activation='sigmoid'))"
      ]
    },
    {
      "cell_type": "markdown",
      "source": [
        "In the next cell, we trained the above neural network model and tested its accuracy. As this concept has still not benn covered in the class, just run the code to check the accuracy."
      ],
      "metadata": {
        "id": "2NtBU922rH67"
      }
    },
    {
      "cell_type": "code",
      "execution_count": null,
      "metadata": {
        "id": "krgB1SuRP31t"
      },
      "outputs": [],
      "source": [
        "model.compile(optimizer='adam', loss='binary_crossentropy', metrics=['accuracy'])\n",
        "model.fit(X_train, y_train, epochs=150, batch_size=32, verbose=0)\n",
        "\n",
        "loss, acc = model.evaluate(X_test, y_test, verbose=0)\n",
        "print('Test Accuracy: %.3f' % acc)"
      ]
    },
    {
      "cell_type": "markdown",
      "source": [
        "** How much accuracy have you got? Compare the accuracy with your peers. **\n",
        "** Now, change your model and activation function to get the better accuracy as compared to your peers **"
      ],
      "metadata": {
        "id": "8ReYGy_jsCh0"
      }
    },
    {
      "cell_type": "markdown",
      "source": [
        "## **Important:** Document in your lab logbook the accuracy of the improved model. Do not include any code or explanations in your lab logbook. Simply record the accuracy. For example, if the obtained accuracy is 0.98, then enter \"0.98\" in your lab logbook.\n",
        "\n",
        "## In addition to the accuracy, also document the output of the neural network as provided in Task 2.\n"
      ],
      "metadata": {
        "id": "rmeq5l1edZPg"
      }
    },
    {
      "cell_type": "markdown",
      "source": [
        "\n",
        "Next, we have provided the code to predict on an unknown value.\n",
        "We will cover these concepts later in the class. For now, just run the code to see the prediction."
      ],
      "metadata": {
        "id": "ZFNL8fY2rd41"
      }
    },
    {
      "cell_type": "code",
      "execution_count": null,
      "metadata": {
        "id": "kXV7gQRAP31u",
        "outputId": "a5092aea-3cad-4009-de83-956caa73ecba",
        "colab": {
          "base_uri": "https://localhost:8080/"
        }
      },
      "outputs": [
        {
          "output_type": "stream",
          "name": "stdout",
          "text": [
            "1/1 [==============================] - 0s 77ms/step\n",
            "Predicted: 0.973\n"
          ]
        }
      ],
      "source": [
        "row = [1,0,0.99539,-0.05889,0.85243,0.02306,\n",
        "       0.83398,-0.37708,1,0.03760,0.85243,-0.17755,\n",
        "       0.59755,-0.44945,0.60536,-0.38223,0.84356,\n",
        "       -0.38542,0.58212,-0.32192,0.56971,-0.29674,0.36946,\n",
        "       -0.47357,0.56811,-0.51171,0.41078,-0.46168,0.21266,\n",
        "       -0.34090,0.42267,-0.54487,0.18641,-0.45300]\n",
        "yhat = model.predict([row])\n",
        "print('Predicted: %.3f' % yhat)"
      ]
    },
    {
      "cell_type": "markdown",
      "metadata": {
        "id": "bNFK4kV9P31u"
      },
      "source": [
        "### Try out the same model with Keras Functional models!\n",
        "Refer to [Keras](https://keras.io/) for more details and tutorials for the same."
      ]
    }
  ],
  "metadata": {
    "kernelspec": {
      "display_name": "Python 3",
      "language": "python",
      "name": "python3"
    },
    "language_info": {
      "codemirror_mode": {
        "name": "ipython",
        "version": 3
      },
      "file_extension": ".py",
      "mimetype": "text/x-python",
      "name": "python",
      "nbconvert_exporter": "python",
      "pygments_lexer": "ipython3",
      "version": "3.7.3"
    },
    "colab": {
      "provenance": []
    }
  },
  "nbformat": 4,
  "nbformat_minor": 0
}