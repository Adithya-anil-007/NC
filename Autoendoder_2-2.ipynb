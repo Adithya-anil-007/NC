{
 "cells": [
  {
   "cell_type": "markdown",
   "metadata": {
    "id": "VB9pbERmm8IZ"
   },
   "source": [
    "\n",
    "# Simple AutoEncoders with Image Data\n",
    "\n",
    "Here is a simple autoencoder with just the dense layers."
   ]
  },
  {
   "cell_type": "markdown",
   "metadata": {
    "id": "LlxN-eb5m8Ia"
   },
   "source": [
    "Load the data and import the libraries."
   ]
  },
  {
   "cell_type": "code",
   "execution_count": null,
   "metadata": {},
   "outputs": [],
   "source": [
    "pip install keras"
   ]
  },
  {
   "cell_type": "code",
   "execution_count": 1,
   "metadata": {
    "id": "MGqNWU6Ym8Ia"
   },
   "outputs": [],
   "source": [
    "#\n",
    "# Import relevant Libraries\n",
    "#\n",
    "\n",
    "import pandas as pd\n",
    "import numpy as np\n",
    "import matplotlib.pyplot as plt\n",
    "import tensorflow as tf\n",
    "from tensorflow import keras"
   ]
  },
  {
   "cell_type": "code",
   "execution_count": 2,
   "metadata": {},
   "outputs": [
    {
     "name": "stdout",
     "output_type": "stream",
     "text": [
      "2.15.0\n"
     ]
    }
   ],
   "source": [
    "print(tf.__version__)"
   ]
  },
  {
   "cell_type": "code",
   "execution_count": 4,
   "metadata": {
    "id": "db4OX9Bdm8Ib"
   },
   "outputs": [],
   "source": [
    "\n",
    "# Load MNIST data and store it in variables x_train, x_test. Note -  we do not need labels as it's autoencoder.\n",
    "\n",
    "from keras.datasets import mnist\n",
    "\n",
    "(x_train, _), (x_test, _) = mnist.load_data()"
   ]
  },
  {
   "cell_type": "code",
   "execution_count": 5,
   "metadata": {
    "colab": {
     "base_uri": "https://localhost:8080/",
     "height": 129
    },
    "id": "Y9VG7JbKm8Ic",
    "outputId": "d416dcff-0379-429e-ccaa-4817b49adfe2"
   },
   "outputs": [
    {
     "data": {
      "image/png": "[encoded data removed]",
      "text/plain": [
       "<Figure size 2000x400 with 10 Axes>"
      ]
     },
     "metadata": {},
     "output_type": "display_data"
    }
   ],
   "source": [
    "# Plot a few data points\n",
    "%matplotlib inline\n",
    "\n",
    "n = 10  # Number of records that will display\n",
    "plt.figure(figsize=(20, 4))\n",
    "for i in range(n):\n",
    "    # display original\n",
    "    ax = plt.subplot(2, n, i + 1)\n",
    "    plt.imshow(x_test[i].reshape(28, 28))\n",
    "    plt.gray()\n",
    "    ax.get_xaxis().set_visible(False)\n",
    "    ax.get_yaxis().set_visible(False)\n",
    "\n",
    "plt.show()"
   ]
  },
  {
   "cell_type": "code",
   "execution_count": 6,
   "metadata": {
    "id": "l7J4pLFUm8Ic"
   },
   "outputs": [],
   "source": [
    "# Normalize train data - Divide by 255\n",
    "# Normalize test data - Divide by 255\n",
    "\n",
    "x_train = x_train/255\n",
    "x_test = x_test/255"
   ]
  },
  {
   "cell_type": "markdown",
   "metadata": {
    "id": "iN3Dtyymm8Ic"
   },
   "source": [
    "## Basic AutoEncoder\n",
    "\n",
    "Build a basic symmetric encoder-decoder network that recreates the image.  This network could be used in dimensionaliry reduction or feature learning. "
   ]
  },
  {
   "cell_type": "code",
   "execution_count": 14,
   "metadata": {},
   "outputs": [],
   "source": [
    "from tensorflow.keras.models import Sequential \n",
    "from tensorflow.keras.layers import Flatten, Dense, Reshape"
   ]
  },
  {
   "cell_type": "code",
   "execution_count": 11,
   "metadata": {
    "id": "sZ0Haczem8Id"
   },
   "outputs": [],
   "source": [
    "encoder = Sequential()\n",
    "encoder.add(Flatten(input_shape=[28,28]))\n",
    "\n",
    "#\n",
    "# Add as many hidden layers in the encoder network of your choise\n",
    "#\n",
    "#\n",
    "\n",
    "\n",
    "# The last TWO layers of the encoder and decoder must be matched (see the following decoder cell.\n",
    "#\n",
    "\n",
    "\n",
    "encoder.add(Dense(300, activation = 'relu'))\n",
    "encoder.add(Dense(200, activation = 'relu'))\n",
    "encoder.add(Dense(100, activation = 'relu'))\n",
    "encoder.add(Dense(50, activation = 'relu'))\n",
    "encoder.add(Dense(25, activation = 'relu'))"
   ]
  },
  {
   "cell_type": "code",
   "execution_count": 12,
   "metadata": {},
   "outputs": [
    {
     "name": "stdout",
     "output_type": "stream",
     "text": [
      "Model: \"sequential_3\"\n",
      "_________________________________________________________________\n",
      " Layer (type)                Output Shape              Param #   \n",
      "=================================================================\n",
      " flatten_3 (Flatten)         (None, 784)               0         \n",
      "                                                                 \n",
      " dense_5 (Dense)             (None, 300)               235500    \n",
      "                                                                 \n",
      " dense_6 (Dense)             (None, 200)               60200     \n",
      "                                                                 \n",
      " dense_7 (Dense)             (None, 100)               20100     \n",
      "                                                                 \n",
      " dense_8 (Dense)             (None, 50)                5050      \n",
      "                                                                 \n",
      " dense_9 (Dense)             (None, 25)                1275      \n",
      "                                                                 \n",
      "=================================================================\n",
      "Total params: 322125 (1.23 MB)\n",
      "Trainable params: 322125 (1.23 MB)\n",
      "Non-trainable params: 0 (0.00 Byte)\n",
      "_________________________________________________________________\n",
      "None\n"
     ]
    }
   ],
   "source": [
    "# print the encoder model\n",
    "\n",
    "print(encoder.summary())"
   ]
  },
  {
   "cell_type": "code",
   "execution_count": 17,
   "metadata": {
    "id": "bWkuLDpjm8Id"
   },
   "outputs": [],
   "source": [
    "decoder = Sequential()\n",
    "decoder.add(Dense(50,input_shape=[25],activation='relu'))\n",
    "\n",
    "#\n",
    "# Add as many layers in the decoder as you want. Reember - Encoder and decoder need to be symmetric.\n",
    "#\n",
    "\n",
    "decoder.add(Dense(300, activation = 'relu'))\n",
    "decoder.add(Dense(200, activation = 'relu'))\n",
    "decoder.add(Dense(100, activation = 'relu'))\n",
    "decoder.add(Dense(50, activation = 'relu'))\n",
    "decoder.add(Dense(25, activation = 'relu'))\n",
    "\n",
    "decoder.add(Dense(28 * 28, activation=\"sigmoid\"))\n",
    "decoder.add(Reshape([28, 28]))"
   ]
  },
  {
   "cell_type": "code",
   "execution_count": 18,
   "metadata": {},
   "outputs": [
    {
     "name": "stdout",
     "output_type": "stream",
     "text": [
      "Model: \"sequential_7\"\n",
      "_________________________________________________________________\n",
      " Layer (type)                Output Shape              Param #   \n",
      "=================================================================\n",
      " dense_21 (Dense)            (None, 50)                1300      \n",
      "                                                                 \n",
      " dense_22 (Dense)            (None, 300)               15300     \n",
      "                                                                 \n",
      " dense_23 (Dense)            (None, 200)               60200     \n",
      "                                                                 \n",
      " dense_24 (Dense)            (None, 100)               20100     \n",
      "                                                                 \n",
      " dense_25 (Dense)            (None, 50)                5050      \n",
      "                                                                 \n",
      " dense_26 (Dense)            (None, 25)                1275      \n",
      "                                                                 \n",
      " dense_27 (Dense)            (None, 784)               20384     \n",
      "                                                                 \n",
      " reshape_2 (Reshape)         (None, 28, 28)            0         \n",
      "                                                                 \n",
      "=================================================================\n",
      "Total params: 123609 (482.85 KB)\n",
      "Trainable params: 123609 (482.85 KB)\n",
      "Non-trainable params: 0 (0.00 Byte)\n",
      "_________________________________________________________________\n",
      "None\n"
     ]
    }
   ],
   "source": [
    "# print the decoder model\n",
    "\n",
    "print(decoder.summary())"
   ]
  },
  {
   "cell_type": "code",
   "execution_count": 19,
   "metadata": {
    "id": "Iic4UbbXm8Id"
   },
   "outputs": [],
   "source": [
    "autoencoder = Sequential([encoder, decoder]) # Combine encoder and decoder together.\n"
   ]
  },
  {
   "cell_type": "code",
   "execution_count": 21,
   "metadata": {},
   "outputs": [
    {
     "name": "stdout",
     "output_type": "stream",
     "text": [
      "Model: \"sequential_8\"\n",
      "_________________________________________________________________\n",
      " Layer (type)                Output Shape              Param #   \n",
      "=================================================================\n",
      " sequential_3 (Sequential)   (None, 25)                416550    \n",
      "                                                                 \n",
      " sequential_7 (Sequential)   (None, 28, 28)            123609    \n",
      "                                                                 \n",
      "=================================================================\n",
      "Total params: 540159 (2.06 MB)\n",
      "Trainable params: 540159 (2.06 MB)\n",
      "Non-trainable params: 0 (0.00 Byte)\n",
      "_________________________________________________________________\n",
      "None\n"
     ]
    }
   ],
   "source": [
    "# print the autoencoder model\n",
    "\n",
    "print(autoencoder.summary())"
   ]
  },
  {
   "cell_type": "code",
   "execution_count": 22,
   "metadata": {
    "id": "Vps8w9u-m8Id"
   },
   "outputs": [],
   "source": [
    "# Compile the autoencoder. Use binary_crossenropy as loss and metrics as accuracy.\n",
    "\n",
    "autoencoder.compile(optimizer = 'adam',\n",
    "              loss = 'binary_crossentropy',\n",
    "              metrics = ['accuracy'])"
   ]
  },
  {
   "cell_type": "code",
   "execution_count": 46,
   "metadata": {},
   "outputs": [
    {
     "name": "stdout",
     "output_type": "stream",
     "text": [
      "Epoch 1/10\n",
      "1875/1875 [==============================] - 5s 3ms/step - loss: 0.1497 - accuracy: 0.2082 - val_loss: 0.1484 - val_accuracy: 0.2075\n",
      "Epoch 2/10\n",
      "1875/1875 [==============================] - 5s 3ms/step - loss: 0.1485 - accuracy: 0.2108 - val_loss: 0.1474 - val_accuracy: 0.2110\n",
      "Epoch 3/10\n",
      "1875/1875 [==============================] - 5s 3ms/step - loss: 0.1477 - accuracy: 0.2128 - val_loss: 0.1478 - val_accuracy: 0.2111\n",
      "Epoch 4/10\n",
      "1875/1875 [==============================] - 5s 3ms/step - loss: 0.1469 - accuracy: 0.2147 - val_loss: 0.1460 - val_accuracy: 0.2151\n",
      "Epoch 5/10\n",
      "1875/1875 [==============================] - 5s 3ms/step - loss: 0.1461 - accuracy: 0.2164 - val_loss: 0.1451 - val_accuracy: 0.2191\n",
      "Epoch 6/10\n",
      "1875/1875 [==============================] - 5s 3ms/step - loss: 0.1453 - accuracy: 0.2173 - val_loss: 0.1441 - val_accuracy: 0.2199\n",
      "Epoch 7/10\n",
      "1875/1875 [==============================] - 5s 3ms/step - loss: 0.1443 - accuracy: 0.2182 - val_loss: 0.1434 - val_accuracy: 0.2172\n",
      "Epoch 8/10\n",
      "1875/1875 [==============================] - 5s 3ms/step - loss: 0.1428 - accuracy: 0.2204 - val_loss: 0.1422 - val_accuracy: 0.2198\n",
      "Epoch 9/10\n",
      "1875/1875 [==============================] - 5s 3ms/step - loss: 0.1420 - accuracy: 0.2214 - val_loss: 0.1403 - val_accuracy: 0.2213\n",
      "Epoch 10/10\n",
      "1875/1875 [==============================] - 5s 3ms/step - loss: 0.1409 - accuracy: 0.2220 - val_loss: 0.1417 - val_accuracy: 0.2174\n"
     ]
    }
   ],
   "source": [
    "# Fit the autoencoder. Note - Input and output are same. x_train is your train data, x_test is your validation data.\n",
    "\n",
    "history = autoencoder.fit(x_train, x_train, epochs = 10, batch_size = 32, validation_data = (x_test, x_test))"
   ]
  },
  {
   "cell_type": "code",
   "execution_count": 47,
   "metadata": {
    "colab": {
     "base_uri": "https://localhost:8080/",
     "height": 266
    },
    "id": "8qa1dlv0m8Ie",
    "outputId": "496b16b2-d0dc-41d0-866d-f72db6611aad"
   },
   "outputs": [
    {
     "name": "stdout",
     "output_type": "stream",
     "text": [
      "313/313 [==============================] - 1s 3ms/step\n"
     ]
    },
    {
     "data": {
      "image/png": "[encoded data removed]",
      "text/plain": [
       "<Figure size 2000x400 with 20 Axes>"
      ]
     },
     "metadata": {},
     "output_type": "display_data"
    }
   ],
   "source": [
    "# Check a few sample images.\n",
    "decoded_imgs = autoencoder.predict(x_test)\n",
    "\n",
    "n = 10\n",
    "\n",
    "plt.figure(figsize=(20, 4))\n",
    "\n",
    "for i in range(n):\n",
    "    # \n",
    "    # Display original image - Just line sample code provided earlier.\n",
    "    #\n",
    "    ax = plt.subplot(2, n, i + 1)\n",
    "    plt.imshow(x_test[i].reshape(28, 28))\n",
    "    plt.gray()\n",
    "    ax.get_xaxis().set_visible(False)\n",
    "    ax.get_yaxis().set_visible(False)\n",
    "\n",
    "    # \n",
    "    # Display reconstruced (decoded) images. You need to slightly change your code.\n",
    "    #\n",
    "    \n",
    "    ax = plt.subplot(2, n, i + 1 + n)\n",
    "    plt.imshow(x_test[i].reshape(28, 28))\n",
    "    plt.gray()\n",
    "    ax.get_xaxis().set_visible(True)\n",
    "    ax.get_yaxis().set_visible(True)\n",
    "    \n",
    "plt.show()"
   ]
  },
  {
   "cell_type": "markdown",
   "metadata": {
    "id": "uBRgywR9m8Ie"
   },
   "source": [
    "# AutoEncoders for Denoising Images\n",
    "\n",
    "Use the same digit data set. Add Gaussian noise to it to train an autoencoder that removes noise. Test the noisy samples. "
   ]
  },
  {
   "cell_type": "code",
   "execution_count": 35,
   "metadata": {
    "id": "OdDjYQC5m8Ie"
   },
   "outputs": [],
   "source": [
    "from tensorflow.keras.layers import GaussianNoise"
   ]
  },
  {
   "cell_type": "code",
   "execution_count": 36,
   "metadata": {
    "id": "da3tX601m8Ie"
   },
   "outputs": [],
   "source": [
    "sample = GaussianNoise(0.2)\n",
    "noisey = sample(x_test[0:2],training=True)"
   ]
  },
  {
   "cell_type": "code",
   "execution_count": 37,
   "metadata": {
    "colab": {
     "base_uri": "https://localhost:8080/",
     "height": 283
    },
    "id": "QrTuAs-Hm8Ie",
    "outputId": "5e85506e-6980-4470-b322-eaf6c911bba5"
   },
   "outputs": [
    {
     "data": {
      "text/plain": [
       "<matplotlib.image.AxesImage at 0x2ccc7ed10>"
      ]
     },
     "execution_count": 37,
     "metadata": {},
     "output_type": "execute_result"
    },
    {
     "data": {
      "image/png": "[encoded data removed]",
      "text/plain": [
       "<Figure size 640x480 with 1 Axes>"
      ]
     },
     "metadata": {},
     "output_type": "display_data"
    }
   ],
   "source": [
    "plt.imshow(x_test[0])"
   ]
  },
  {
   "cell_type": "code",
   "execution_count": 38,
   "metadata": {
    "colab": {
     "base_uri": "https://localhost:8080/",
     "height": 283
    },
    "id": "-O6S5HhSm8If",
    "outputId": "3b2e48c8-b14d-4080-869d-734844ce5ac1"
   },
   "outputs": [
    {
     "data": {
      "text/plain": [
       "<matplotlib.image.AxesImage at 0x2c8f74090>"
      ]
     },
     "execution_count": 38,
     "metadata": {},
     "output_type": "execute_result"
    },
    {
     "data": {
      "image/png": "[encoded data removed]",
      "text/plain": [
       "<Figure size 640x480 with 1 Axes>"
      ]
     },
     "metadata": {},
     "output_type": "display_data"
    }
   ],
   "source": [
    "plt.imshow(noisey[0])"
   ]
  },
  {
   "cell_type": "markdown",
   "metadata": {
    "id": "PCnzI8Mrm8If"
   },
   "source": [
    "### Create  noise removal autoencoder and train it.\n",
    "\n",
    "# Input - Images with noise\n",
    "# Labels - Clean images."
   ]
  },
  {
   "cell_type": "code",
   "execution_count": 39,
   "metadata": {
    "id": "sAwfn_Uqm8If"
   },
   "outputs": [],
   "source": [
    "\n",
    "encoder = Sequential()\n",
    "encoder.add(Flatten(input_shape=[28,28]))\n",
    "encoder.add(GaussianNoise(0.2)) # We are adding noise to make input as noisy image\n",
    "#\n",
    "# Add layers of encoder network. You could use same number of layers as earlier.\n",
    "#\n",
    "\n",
    "encoder.add(Dense(300, activation = 'relu'))\n",
    "encoder.add(Dense(200, activation = 'relu'))\n",
    "encoder.add(Dense(100, activation = 'relu'))\n",
    "encoder.add(Dense(50, activation = 'relu'))\n",
    "encoder.add(Dense(25, activation = 'relu'))\n"
   ]
  },
  {
   "cell_type": "code",
   "execution_count": 40,
   "metadata": {
    "id": "w51A8hiQm8If"
   },
   "outputs": [],
   "source": [
    "decoder = Sequential()\n",
    "decoder.add(Dense(50,input_shape=[25],activation='relu'))\n",
    "\n",
    "#\n",
    "# Add layers of decoder network. You could use same number of layers as earlier.\n",
    "#\n",
    "\n",
    "decoder.add(Dense(300, activation = 'relu'))\n",
    "decoder.add(Dense(200, activation = 'relu'))\n",
    "decoder.add(Dense(100, activation = 'relu'))\n",
    "decoder.add(Dense(50, activation = 'relu'))\n",
    "decoder.add(Dense(25, activation = 'relu'))\n",
    "\n",
    "decoder.add(Dense(28 * 28, activation=\"sigmoid\"))\n",
    "decoder.add(Reshape([28, 28]))"
   ]
  },
  {
   "cell_type": "code",
   "execution_count": 41,
   "metadata": {
    "id": "kHurlGFvm8If"
   },
   "outputs": [],
   "source": [
    "noise_remover = Sequential([encoder, decoder])"
   ]
  },
  {
   "cell_type": "code",
   "execution_count": 42,
   "metadata": {
    "id": "fpY3GDCBm8If"
   },
   "outputs": [],
   "source": [
    "# Compile the network as earlier\n",
    "\n",
    "noise_remover.compile(optimizer = 'adam',\n",
    "              loss = 'binary_crossentropy',\n",
    "              metrics = ['accuracy'])"
   ]
  },
  {
   "cell_type": "code",
   "execution_count": 43,
   "metadata": {},
   "outputs": [
    {
     "name": "stdout",
     "output_type": "stream",
     "text": [
      "Epoch 1/10\n",
      "1875/1875 [==============================] - 5s 3ms/step - loss: 0.2226 - accuracy: 0.1260 - val_loss: 0.1778 - val_accuracy: 0.1671\n",
      "Epoch 2/10\n",
      "1875/1875 [==============================] - 5s 2ms/step - loss: 0.1698 - accuracy: 0.1766 - val_loss: 0.1591 - val_accuracy: 0.1842\n",
      "Epoch 3/10\n",
      "1875/1875 [==============================] - 5s 2ms/step - loss: 0.1547 - accuracy: 0.1954 - val_loss: 0.1451 - val_accuracy: 0.2126\n",
      "Epoch 4/10\n",
      "1875/1875 [==============================] - 5s 2ms/step - loss: 0.1433 - accuracy: 0.2097 - val_loss: 0.1356 - val_accuracy: 0.2085\n",
      "Epoch 5/10\n",
      "1875/1875 [==============================] - 5s 2ms/step - loss: 0.1379 - accuracy: 0.2158 - val_loss: 0.1314 - val_accuracy: 0.2232\n",
      "Epoch 6/10\n",
      "1875/1875 [==============================] - 5s 2ms/step - loss: 0.1327 - accuracy: 0.2226 - val_loss: 0.1260 - val_accuracy: 0.2312\n",
      "Epoch 7/10\n",
      "1875/1875 [==============================] - 5s 2ms/step - loss: 0.1282 - accuracy: 0.2285 - val_loss: 0.1228 - val_accuracy: 0.2324\n",
      "Epoch 8/10\n",
      "1875/1875 [==============================] - 4s 2ms/step - loss: 0.1252 - accuracy: 0.2320 - val_loss: 0.1215 - val_accuracy: 0.2436\n",
      "Epoch 9/10\n",
      "1875/1875 [==============================] - 4s 2ms/step - loss: 0.1228 - accuracy: 0.2348 - val_loss: 0.1188 - val_accuracy: 0.2374\n",
      "Epoch 10/10\n",
      "1875/1875 [==============================] - 4s 2ms/step - loss: 0.1210 - accuracy: 0.2379 - val_loss: 0.1164 - val_accuracy: 0.2392\n"
     ]
    },
    {
     "data": {
      "text/plain": [
       "<keras.src.callbacks.History at 0x2cd0e4710>"
      ]
     },
     "execution_count": 43,
     "metadata": {},
     "output_type": "execute_result"
    }
   ],
   "source": [
    "# Fit the network as earlier.\n",
    "\n",
    "history = noise_remover.fit(x_train, x_train, epochs = 10, batch_size = 32, validation_data = (x_test, x_test))"
   ]
  },
  {
   "cell_type": "code",
   "execution_count": 44,
   "metadata": {
    "id": "rQXenyFYm8Ig"
   },
   "outputs": [],
   "source": [
    "ten_noisey_images = sample(x_test[0:10],training=True)\n",
    "denoised = noise_remover(ten_noisey_images[0:10])"
   ]
  },
  {
   "cell_type": "code",
   "execution_count": 45,
   "metadata": {
    "collapsed": true,
    "id": "2IJtMOcKm8Ig"
   },
   "outputs": [
    {
     "name": "stdout",
     "output_type": "stream",
     "text": [
      "The Original\n"
     ]
    },
    {
     "data": {
      "image/png": "[encoded data removed]",
      "text/plain": [
       "<Figure size 640x480 with 1 Axes>"
      ]
     },
     "metadata": {},
     "output_type": "display_data"
    },
    {
     "name": "stdout",
     "output_type": "stream",
     "text": [
      "The Noisey Version\n"
     ]
    },
    {
     "data": {
      "image/png": "[encoded data removed]",
      "text/plain": [
       "<Figure size 640x480 with 1 Axes>"
      ]
     },
     "metadata": {},
     "output_type": "display_data"
    },
    {
     "name": "stdout",
     "output_type": "stream",
     "text": [
      "After going through denoiser\n"
     ]
    },
    {
     "data": {
      "image/png": "[encoded data removed]",
      "text/plain": [
       "<Figure size 640x480 with 1 Axes>"
      ]
     },
     "metadata": {},
     "output_type": "display_data"
    }
   ],
   "source": [
    "n = 4\n",
    "print(\"The Original\")\n",
    "plt.imshow(x_test[n])\n",
    "plt.show()\n",
    "\n",
    "\n",
    "print(\"The Noisey Version\")\n",
    "plt.imshow(ten_noisey_images[n])\n",
    "plt.show()\n",
    "\n",
    "\n",
    "print(\"After going through denoiser\")\n",
    "plt.imshow(denoised[n])\n",
    "plt.show()"
   ]
  },
  {
   "cell_type": "code",
   "execution_count": null,
   "metadata": {},
   "outputs": [],
   "source": []
  },
  {
   "cell_type": "markdown",
   "metadata": {},
   "source": [
    "## Lab Logbook requirement:\n",
    "\n",
    "- Put the model summary for task 1 in you lab logbook.\n",
    "\n",
    "Ensure that no code or other information is added to the logbook and that only required information is present.  Marks will not be awarded if anything else is found in the logbook or instructions are not clearly followed.\n",
    "\n",
    "NOTE: DON'T FORGET TO SAVE AND BACK UP YOUR COMPLETED JUPYTER NOTEBOOK AND LAB LOGBOOK ON GITHUB OR ONEDRIVE."
   ]
  }
 ],
 "metadata": {
  "colab": {
   "provenance": []
  },
  "kernelspec": {
   "display_name": "Python 3 (ipykernel)",
   "language": "python",
   "name": "python3"
  },
  "language_info": {
   "codemirror_mode": {
    "name": "ipython",
    "version": 3
   },
   "file_extension": ".py",
   "mimetype": "text/x-python",
   "name": "python",
   "nbconvert_exporter": "python",
   "pygments_lexer": "ipython3",
   "version": "3.11.5"
  }
 },
 "nbformat": 4,
 "nbformat_minor": 1
}
